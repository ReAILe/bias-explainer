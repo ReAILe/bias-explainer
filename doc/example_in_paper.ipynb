{
 "cells": [
  {
   "attachments": {},
   "cell_type": "markdown",
   "metadata": {},
   "source": [
    "This notebook demonstrates fairness influence functions on health-insurance prediction task. For details, see example 1.1 in https://arxiv.org/pdf/2206.00667.pdf"
   ]
  },
  {
   "cell_type": "code",
   "execution_count": 4,
   "metadata": {
    "tags": []
   },
   "outputs": [
    {
     "data": {
      "image/png": "[encoded data removed]",
      "text/plain": [
       "<Figure size 216x288 with 2 Axes>"
      ]
     },
     "metadata": {
      "needs_background": "light"
     },
     "output_type": "display_data"
    }
   ],
   "source": [
    "from scipy.stats import norm\n",
    "import numpy as np\n",
    "import matplotlib.pyplot as plt\n",
    "import seaborn as sns\n",
    "plt.rcParams[\"font.family\"] = \"serif\"\n",
    "plt.rcParams['text.usetex'] = True\n",
    "\n",
    "\n",
    "import pandas as pd\n",
    "\n",
    "\n",
    "sigma = 0.1\n",
    "np.random.seed(10)\n",
    "\n",
    "\n",
    "mu_income_high = 0.6\n",
    "mu_income_low = 0.4\n",
    "mu_health_high = 0.7\n",
    "mu_health_low = 0.3\n",
    "samples = 10000\n",
    "\n",
    "# define distribution\n",
    "income_high_dist = norm(loc = mu_income_high, scale = sigma)\n",
    "income_low_dist = norm(loc = mu_income_low, scale = sigma)\n",
    "\n",
    "# generate samples from distribution\n",
    "income_high_samples = np.random.normal(mu_income_high, sigma, int(samples/2))\n",
    "income_low_samples = np.random.normal(mu_income_low, sigma, int(samples/2))\n",
    "\n",
    "\n",
    "\n",
    "# define distribution\n",
    "health_high_dist = norm(loc = mu_health_high, scale = sigma)\n",
    "health_low_dist = norm(loc = mu_health_low, scale = sigma)\n",
    "\n",
    "# generate samples from distribution\n",
    "health_high_samples = np.random.normal(mu_health_high, sigma, int(samples/2))\n",
    "health_low_samples = np.random.normal(mu_health_low, sigma, int(samples/2))\n",
    "\n",
    "x = np.linspace(0,1, 100)\n",
    "\n",
    "fontsize = 24\n",
    "labelsize = 20\n",
    "fig, ax = plt.subplots(nrows=2, ncols=1, figsize=(3, 4))\n",
    "ax[1].plot(x, income_low_dist.pdf(x),'r-', lw=2,  label='age = younger')\n",
    "ax[1].plot(x, income_high_dist.pdf(x),'b-', lw=2,  label='age = elderly')\n",
    "ax[1].set_xlabel(\"income\", fontsize=labelsize)\n",
    "ax[1].set_yticks([])\n",
    "ax[1].tick_params(axis='x', labelsize=labelsize)\n",
    "\n",
    "ax[0].plot(x, health_high_dist.pdf(x),'r-', lw=2,  label='age = younger')\n",
    "ax[0].plot(x, health_low_dist.pdf(x),'b-', lw=2, label='age = elderly')\n",
    "ax[0].set_xlabel(\"fitness\", fontsize=labelsize)\n",
    "ax[0].set_yticks([])\n",
    "ax[0].tick_params(axis='x', labelsize=labelsize)\n",
    "\n",
    "\n",
    "lines_labels = [ax.get_legend_handles_labels() for ax in fig.axes]\n",
    "lines, labels = [sum(lol, []) for lol in zip(*lines_labels)]\n",
    "fig.legend(lines[:2], labels[:2], loc='upper center', ncol=1, bbox_to_anchor= (0.505, 1.2), handlelength=1.2, handletextpad=0.2, columnspacing=None, frameon=False, fontsize=labelsize)\n",
    "plt.tight_layout()\n",
    "plt.show()"
   ]
  },
  {
   "cell_type": "code",
   "execution_count": 5,
   "metadata": {
    "tags": []
   },
   "outputs": [
    {
     "data": {
      "text/html": [
       "<div>\n",
       "<style scoped>\n",
       "    .dataframe tbody tr th:only-of-type {\n",
       "        vertical-align: middle;\n",
       "    }\n",
       "\n",
       "    .dataframe tbody tr th {\n",
       "        vertical-align: top;\n",
       "    }\n",
       "\n",
       "    .dataframe thead th {\n",
       "        text-align: right;\n",
       "    }\n",
       "</style>\n",
       "<table border=\"1\" class=\"dataframe\">\n",
       "  <thead>\n",
       "    <tr style=\"text-align: right;\">\n",
       "      <th></th>\n",
       "      <th>income</th>\n",
       "      <th>age</th>\n",
       "      <th>fitness</th>\n",
       "      <th>target</th>\n",
       "    </tr>\n",
       "  </thead>\n",
       "  <tbody>\n",
       "    <tr>\n",
       "      <th>0</th>\n",
       "      <td>0.462325</td>\n",
       "      <td>0.0</td>\n",
       "      <td>0.481305</td>\n",
       "      <td>0.0</td>\n",
       "    </tr>\n",
       "    <tr>\n",
       "      <th>1</th>\n",
       "      <td>0.405066</td>\n",
       "      <td>0.0</td>\n",
       "      <td>0.622414</td>\n",
       "      <td>1.0</td>\n",
       "    </tr>\n",
       "    <tr>\n",
       "      <th>2</th>\n",
       "      <td>0.439972</td>\n",
       "      <td>0.0</td>\n",
       "      <td>0.690747</td>\n",
       "      <td>1.0</td>\n",
       "    </tr>\n",
       "    <tr>\n",
       "      <th>3</th>\n",
       "      <td>0.178555</td>\n",
       "      <td>0.0</td>\n",
       "      <td>0.658828</td>\n",
       "      <td>0.0</td>\n",
       "    </tr>\n",
       "    <tr>\n",
       "      <th>4</th>\n",
       "      <td>0.553709</td>\n",
       "      <td>0.0</td>\n",
       "      <td>0.649325</td>\n",
       "      <td>1.0</td>\n",
       "    </tr>\n",
       "    <tr>\n",
       "      <th>...</th>\n",
       "      <td>...</td>\n",
       "      <td>...</td>\n",
       "      <td>...</td>\n",
       "      <td>...</td>\n",
       "    </tr>\n",
       "    <tr>\n",
       "      <th>9995</th>\n",
       "      <td>0.715352</td>\n",
       "      <td>1.0</td>\n",
       "      <td>0.230937</td>\n",
       "      <td>0.0</td>\n",
       "    </tr>\n",
       "    <tr>\n",
       "      <th>9996</th>\n",
       "      <td>0.528095</td>\n",
       "      <td>1.0</td>\n",
       "      <td>0.243940</td>\n",
       "      <td>0.0</td>\n",
       "    </tr>\n",
       "    <tr>\n",
       "      <th>9997</th>\n",
       "      <td>0.455745</td>\n",
       "      <td>1.0</td>\n",
       "      <td>0.382715</td>\n",
       "      <td>0.0</td>\n",
       "    </tr>\n",
       "    <tr>\n",
       "      <th>9998</th>\n",
       "      <td>0.638839</td>\n",
       "      <td>1.0</td>\n",
       "      <td>0.261416</td>\n",
       "      <td>0.0</td>\n",
       "    </tr>\n",
       "    <tr>\n",
       "      <th>9999</th>\n",
       "      <td>0.670121</td>\n",
       "      <td>1.0</td>\n",
       "      <td>0.259684</td>\n",
       "      <td>0.0</td>\n",
       "    </tr>\n",
       "  </tbody>\n",
       "</table>\n",
       "<p>10000 rows × 4 columns</p>\n",
       "</div>"
      ],
      "text/plain": [
       "        income  age   fitness  target\n",
       "0     0.462325  0.0  0.481305     0.0\n",
       "1     0.405066  0.0  0.622414     1.0\n",
       "2     0.439972  0.0  0.690747     1.0\n",
       "3     0.178555  0.0  0.658828     0.0\n",
       "4     0.553709  0.0  0.649325     1.0\n",
       "...        ...  ...       ...     ...\n",
       "9995  0.715352  1.0  0.230937     0.0\n",
       "9996  0.528095  1.0  0.243940     0.0\n",
       "9997  0.455745  1.0  0.382715     0.0\n",
       "9998  0.638839  1.0  0.261416     0.0\n",
       "9999  0.670121  1.0  0.259684     0.0\n",
       "\n",
       "[10000 rows x 4 columns]"
      ]
     },
     "execution_count": 5,
     "metadata": {},
     "output_type": "execute_result"
    }
   ],
   "source": [
    "# # target \n",
    "income = np.concatenate([income_low_samples, income_high_samples])\n",
    "health = np.concatenate([health_high_samples, health_low_samples])\n",
    "age = np.concatenate([np.zeros(len(income_low_samples), dtype=int), np.ones(len(income_high_samples), dtype=int)])\n",
    "\n",
    "# # define target as sum of income and health\n",
    "target = []\n",
    "for i in range(samples):\n",
    "    if(health[i] + income[i] > 1):\n",
    "        target.append(1)\n",
    "    else:\n",
    "        target.append(0)\n",
    "target = np.array(target)\n",
    "df = pd.DataFrame(data=np.array(list(zip(income, age, health, target))), columns=['income', 'age', 'fitness', 'target'])\n",
    "df"
   ]
  },
  {
   "cell_type": "code",
   "execution_count": 6,
   "metadata": {},
   "outputs": [],
   "source": [
    "# An example decision tree\n",
    "class DT_synthetic():\n",
    "    def __init__(self, affirmative_action=False):\n",
    "        self.affirmative_action = affirmative_action\n",
    "        pass\n",
    "\n",
    "    def predict(self, X):\n",
    "        y = []\n",
    "        income_threshold = 0.69\n",
    "        if(self.affirmative_action):\n",
    "            income_threshold = 0.555\n",
    "        for x in X:\n",
    "            income, age, fitness = x[0], x[1], x[2]\n",
    "            if(fitness > 0.61):\n",
    "                if(income > 0.29):\n",
    "                    y.append(1)\n",
    "                else:\n",
    "                    y.append(0)\n",
    "            else:\n",
    "                if(income > income_threshold):\n",
    "                    y.append(1)\n",
    "                else:\n",
    "                    y.append(0)\n",
    "        return np.array(y)"
   ]
  },
  {
   "cell_type": "code",
   "execution_count": 12,
   "metadata": {},
   "outputs": [
    {
     "name": "stdout",
     "output_type": "stream",
     "text": [
      "\u001b[33mWARNING: Package(s) not found: fairxplainer\u001b[0m\u001b[33m\n",
      "\u001b[0m"
     ]
    }
   ],
   "source": [
    "# !pip install fairxplainer\n",
    "!pip show fairxplainer\n",
    "\n",
    "import sys\n",
    "sys.path.append(\"../\") # without pip install"
   ]
  },
  {
   "cell_type": "code",
   "execution_count": 13,
   "metadata": {},
   "outputs": [
    {
     "data": {
      "image/png": "[encoded data removed]",
      "text/plain": [
       "<Figure size 432x194.4 with 1 Axes>"
      ]
     },
     "metadata": {
      "needs_background": "light"
     },
     "output_type": "display_data"
    },
    {
     "name": "stdout",
     "output_type": "stream",
     "text": [
      "Exact statistical parity: 0.529\n"
     ]
    }
   ],
   "source": [
    "from fairxplainer.fair_explainer import plot as fif_plot\n",
    "from fairxplainer.fair_explainer import FairXplainer\n",
    "\n",
    "\n",
    "affirmative_action = False # set to True to see the effect of affirmative action\n",
    "clf = DT_synthetic(affirmative_action=affirmative_action)\n",
    "\n",
    "X = df.drop(['target'], axis=1)\n",
    "y = df['target']\n",
    "\n",
    "verbose = False\n",
    "fairXplainer = FairXplainer(classifier=clf, dataset=X, sensitive_features=['age'], verbose=verbose)\n",
    "fairXplainer.compute(approach=\"hdmr\", spline_intervals=20, verbose=verbose)\n",
    "\n",
    "explanation_result = fairXplainer.get_top_k_weights(k=10)\n",
    "\n",
    "plt = fif_plot(explanation_result, draw_waterfall=True, labelsize=18, fontsize=20, figure_size=(6, 2.7), title=\"\", text_x_pad=0.05, text_y_pad=0.2, result_y_location=0.6, result_x_pad=0.02,\n",
    "           x_label=r\"Statistical parity\", delete_zero_weights=True)\n",
    "plt.show()\n",
    "print(\"Exact statistical parity:\", fairXplainer.statistical_parity_dataset())\n"
   ]
  },
  {
   "cell_type": "code",
   "execution_count": 9,
   "metadata": {},
   "outputs": [
    {
     "name": "stdout",
     "output_type": "stream",
     "text": [
      "              precision    recall  f1-score   support\n",
      "\n",
      "         0.0       0.79      0.89      0.84      4945\n",
      "         1.0       0.88      0.77      0.82      5055\n",
      "\n",
      "    accuracy                           0.83     10000\n",
      "   macro avg       0.84      0.83      0.83     10000\n",
      "weighted avg       0.84      0.83      0.83     10000\n",
      "\n"
     ]
    }
   ],
   "source": [
    "# Accuracy calculation\n",
    "from sklearn.metrics import classification_report\n",
    "print(classification_report(y, clf.predict(X.values)))"
   ]
  },
  {
   "cell_type": "code",
   "execution_count": null,
   "metadata": {},
   "outputs": [],
   "source": []
  }
 ],
 "metadata": {
  "kernelspec": {
   "display_name": "base",
   "language": "python",
   "name": "python3"
  },
  "language_info": {
   "codemirror_mode": {
    "name": "ipython",
    "version": 3
   },
   "file_extension": ".py",
   "mimetype": "text/x-python",
   "name": "python",
   "nbconvert_exporter": "python",
   "pygments_lexer": "ipython3",
   "version": "3.7.6"
  },
  "vscode": {
   "interpreter": {
    "hash": "166504e597e6ad065b6a3190fef82fc8d0eb8fa58d36cdf54b0d21edec0e83b0"
   }
  }
 },
 "nbformat": 4,
 "nbformat_minor": 2
}
