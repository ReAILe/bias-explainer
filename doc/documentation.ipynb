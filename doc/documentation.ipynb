{
 "cells": [
  {
   "cell_type": "code",
   "execution_count": 1,
   "metadata": {},
   "outputs": [],
   "source": [
    "# standard library\n",
    "import sklearn.metrics\n",
    "from sklearn.model_selection import train_test_split\n",
    "from pyrulelearn.imli import imli\n",
    "from sklearn.linear_model import LogisticRegression\n",
    "from sklearn.neural_network import MLPClassifier\n",
    "from sklearn.svm import SVC\n",
    "from sklearn import tree\n",
    "import seaborn as sns\n",
    "import numpy as np\n",
    "import sys\n",
    "import pandas as pd \n",
    "import seaborn as sns\n",
    "%matplotlib inline\n",
    "import matplotlib.pyplot as plt\n",
    "\n",
    "\n",
    "sys.path.append(\"../\")\n",
    "\n",
    "# From this framework\n",
    "from fairness_influence_functions.src.fair_explainer import FairXplainer\n",
    "from fairness_influence_functions.src.fair_explainer import plot as fif_plot\n",
    "from data.objects.adult import Adult\n",
    "from data.objects.ricci import Ricci\n",
    "from data.objects.titanic import Titanic\n",
    "from data.objects.compas import Compas\n",
    "from data.objects.german import German\n",
    "import justicia.utils"
   ]
  },
  {
   "cell_type": "code",
   "execution_count": 2,
   "metadata": {},
   "outputs": [
    {
     "name": "stdout",
     "output_type": "stream",
     "text": [
      "['race']\n",
      "Index(['sex', 'age', 'race', 'juv_fel_count', 'juv_misd_count',\n",
      "       'juv_other_count', 'priors_count', 'c_charge_degree'],\n",
      "      dtype='object')\n"
     ]
    },
    {
     "data": {
      "text/html": [
       "<div>\n",
       "<style scoped>\n",
       "    .dataframe tbody tr th:only-of-type {\n",
       "        vertical-align: middle;\n",
       "    }\n",
       "\n",
       "    .dataframe tbody tr th {\n",
       "        vertical-align: top;\n",
       "    }\n",
       "\n",
       "    .dataframe thead th {\n",
       "        text-align: right;\n",
       "    }\n",
       "</style>\n",
       "<table border=\"1\" class=\"dataframe\">\n",
       "  <thead>\n",
       "    <tr style=\"text-align: right;\">\n",
       "      <th></th>\n",
       "      <th>sex</th>\n",
       "      <th>age</th>\n",
       "      <th>race</th>\n",
       "      <th>juv_fel_count</th>\n",
       "      <th>juv_misd_count</th>\n",
       "      <th>juv_other_count</th>\n",
       "      <th>priors_count</th>\n",
       "      <th>c_charge_degree</th>\n",
       "    </tr>\n",
       "  </thead>\n",
       "  <tbody>\n",
       "    <tr>\n",
       "      <th>0</th>\n",
       "      <td>0</td>\n",
       "      <td>0.653846</td>\n",
       "      <td>0</td>\n",
       "      <td>0.0</td>\n",
       "      <td>0.000000</td>\n",
       "      <td>0.000000</td>\n",
       "      <td>0.000000</td>\n",
       "      <td>0</td>\n",
       "    </tr>\n",
       "    <tr>\n",
       "      <th>1</th>\n",
       "      <td>0</td>\n",
       "      <td>0.205128</td>\n",
       "      <td>0</td>\n",
       "      <td>0.0</td>\n",
       "      <td>0.000000</td>\n",
       "      <td>0.000000</td>\n",
       "      <td>0.000000</td>\n",
       "      <td>0</td>\n",
       "    </tr>\n",
       "    <tr>\n",
       "      <th>2</th>\n",
       "      <td>0</td>\n",
       "      <td>0.076923</td>\n",
       "      <td>0</td>\n",
       "      <td>0.0</td>\n",
       "      <td>0.000000</td>\n",
       "      <td>0.058824</td>\n",
       "      <td>0.105263</td>\n",
       "      <td>0</td>\n",
       "    </tr>\n",
       "    <tr>\n",
       "      <th>3</th>\n",
       "      <td>0</td>\n",
       "      <td>0.064103</td>\n",
       "      <td>0</td>\n",
       "      <td>0.0</td>\n",
       "      <td>0.076923</td>\n",
       "      <td>0.000000</td>\n",
       "      <td>0.026316</td>\n",
       "      <td>0</td>\n",
       "    </tr>\n",
       "    <tr>\n",
       "      <th>4</th>\n",
       "      <td>0</td>\n",
       "      <td>0.320513</td>\n",
       "      <td>0</td>\n",
       "      <td>0.0</td>\n",
       "      <td>0.000000</td>\n",
       "      <td>0.000000</td>\n",
       "      <td>0.052632</td>\n",
       "      <td>0</td>\n",
       "    </tr>\n",
       "    <tr>\n",
       "      <th>5</th>\n",
       "      <td>0</td>\n",
       "      <td>0.333333</td>\n",
       "      <td>0</td>\n",
       "      <td>0.0</td>\n",
       "      <td>0.000000</td>\n",
       "      <td>0.000000</td>\n",
       "      <td>0.000000</td>\n",
       "      <td>1</td>\n",
       "    </tr>\n",
       "    <tr>\n",
       "      <th>6</th>\n",
       "      <td>0</td>\n",
       "      <td>0.294872</td>\n",
       "      <td>1</td>\n",
       "      <td>0.0</td>\n",
       "      <td>0.000000</td>\n",
       "      <td>0.000000</td>\n",
       "      <td>0.368421</td>\n",
       "      <td>0</td>\n",
       "    </tr>\n",
       "    <tr>\n",
       "      <th>7</th>\n",
       "      <td>0</td>\n",
       "      <td>0.320513</td>\n",
       "      <td>0</td>\n",
       "      <td>0.0</td>\n",
       "      <td>0.000000</td>\n",
       "      <td>0.000000</td>\n",
       "      <td>0.078947</td>\n",
       "      <td>0</td>\n",
       "    </tr>\n",
       "    <tr>\n",
       "      <th>8</th>\n",
       "      <td>1</td>\n",
       "      <td>0.269231</td>\n",
       "      <td>1</td>\n",
       "      <td>0.0</td>\n",
       "      <td>0.000000</td>\n",
       "      <td>0.000000</td>\n",
       "      <td>0.000000</td>\n",
       "      <td>1</td>\n",
       "    </tr>\n",
       "    <tr>\n",
       "      <th>9</th>\n",
       "      <td>0</td>\n",
       "      <td>0.038462</td>\n",
       "      <td>1</td>\n",
       "      <td>0.0</td>\n",
       "      <td>0.000000</td>\n",
       "      <td>0.000000</td>\n",
       "      <td>0.026316</td>\n",
       "      <td>0</td>\n",
       "    </tr>\n",
       "  </tbody>\n",
       "</table>\n",
       "</div>"
      ],
      "text/plain": [
       "   sex       age  race  juv_fel_count  juv_misd_count  juv_other_count  \\\n",
       "0    0  0.653846     0            0.0        0.000000         0.000000   \n",
       "1    0  0.205128     0            0.0        0.000000         0.000000   \n",
       "2    0  0.076923     0            0.0        0.000000         0.058824   \n",
       "3    0  0.064103     0            0.0        0.076923         0.000000   \n",
       "4    0  0.320513     0            0.0        0.000000         0.000000   \n",
       "5    0  0.333333     0            0.0        0.000000         0.000000   \n",
       "6    0  0.294872     1            0.0        0.000000         0.000000   \n",
       "7    0  0.320513     0            0.0        0.000000         0.000000   \n",
       "8    1  0.269231     1            0.0        0.000000         0.000000   \n",
       "9    0  0.038462     1            0.0        0.000000         0.000000   \n",
       "\n",
       "   priors_count  c_charge_degree  \n",
       "0      0.000000                0  \n",
       "1      0.000000                0  \n",
       "2      0.105263                0  \n",
       "3      0.026316                0  \n",
       "4      0.052632                0  \n",
       "5      0.000000                1  \n",
       "6      0.368421                0  \n",
       "7      0.078947                0  \n",
       "8      0.000000                1  \n",
       "9      0.026316                0  "
      ]
     },
     "execution_count": 2,
     "metadata": {},
     "output_type": "execute_result"
    }
   ],
   "source": [
    "verbose = False\n",
    "dataset_name = \"compas\"\n",
    "if(dataset_name == \"adult\"):\n",
    "    dataset = Adult(verbose=verbose, config=2) # config defines configuration for sensitive groups\n",
    "    df = dataset.get_df()\n",
    "elif(dataset_name == \"ricci\"):\n",
    "    dataset = Ricci(verbose=verbose, config=0) # config defines configuration for sensitive groups\n",
    "    df = dataset.get_df()\n",
    "elif(dataset_name == \"titanic\"):\n",
    "    dataset = Titanic(verbose=verbose, config=2) # config defines configuration for sensitive groups\n",
    "    df = dataset.get_df()\n",
    "elif(dataset_name == \"compas\"):\n",
    "    dataset = Compas(verbose=verbose, config=1) # config defines configuration for sensitive groups\n",
    "    df = dataset.get_df()\n",
    "elif(dataset_name == \"german\"):\n",
    "    dataset = German(verbose=verbose, config=2) # config defines configuration for sensitive groups\n",
    "    df = dataset.get_df()\n",
    "else:\n",
    "    raise ValueError()\n",
    "\n",
    "\n",
    "# get X,y\n",
    "X = df.drop(['target'], axis=1)\n",
    "y = df['target']\n",
    "\n",
    "print(dataset.known_sensitive_attributes)\n",
    "print(X.columns)\n",
    "\n",
    "# one-hot encoding for categorical features (this takes care of Label encoding automatically)\n",
    "X = justicia.utils.get_one_hot_encoded_df(X,dataset.categorical_attributes)\n",
    "\n",
    "X.head(10)"
   ]
  },
  {
   "cell_type": "code",
   "execution_count": 3,
   "metadata": {},
   "outputs": [
    {
     "data": {
      "text/plain": [
       "LogisticRegression()"
      ]
     },
     "execution_count": 3,
     "metadata": {},
     "output_type": "execute_result"
    }
   ],
   "source": [
    "clf = LogisticRegression()\n",
    "# clf = MLPClassifier(solver='lbfgs', alpha=1e-5, hidden_layer_sizes=(5, 2), random_state=1)\n",
    "# clf = SVC()\n",
    "clf.fit(X.values, y.values)"
   ]
  },
  {
   "cell_type": "markdown",
   "metadata": {},
   "source": [
    "## Fairness explanation using (co)variance decomposition"
   ]
  },
  {
   "cell_type": "code",
   "execution_count": 4,
   "metadata": {},
   "outputs": [
    {
     "name": "stdout",
     "output_type": "stream",
     "text": [
      "\n",
      "\n",
      "\n",
      "c Decomposition for  race = 0\n",
      "c positive prediction probability of  race = 0 is 0.4180672268907563\n",
      "c sample shape: (4760, 8)\n",
      "c sensitive group: race = 0\n",
      "c variance of Y 0.24328702069062916\n",
      "c mean of Y 0.4180672268907563\n",
      "\n",
      "\n",
      "\n",
      "c Decomposition for  race = 1\n",
      "c positive prediction probability of  race = 1 is 0.24327628361858192\n",
      "c sample shape: (2454, 8)\n",
      "c sensitive group: race = 1\n",
      "c variance of Y 0.18409293344731323\n",
      "c mean of Y 0.24327628361858192\n",
      "\n",
      "                              names        Sa  Sa_conf        Sb  Sb_conf  \\\n",
      "0                               sex  0.000000      0.0  0.000000      0.0   \n",
      "1                               age  0.053775      0.0 -0.019661      0.0   \n",
      "2                              race  0.000000      0.0  0.000000      0.0   \n",
      "3                     juv_fel_count  0.000000      0.0  0.000000      0.0   \n",
      "4                    juv_misd_count  0.000483      0.0 -0.000222      0.0   \n",
      "..                              ...       ...      ...       ...      ...   \n",
      "31      juv_misd_count/priors_count  0.000542      0.0 -0.000004      0.0   \n",
      "32   juv_misd_count/c_charge_degree  0.001485      0.0  0.002139      0.0   \n",
      "33     juv_other_count/priors_count  0.001804      0.0 -0.000798      0.0   \n",
      "34  juv_other_count/c_charge_degree  0.001422      0.0  0.002078      0.0   \n",
      "35     priors_count/c_charge_degree  0.002149      0.0  0.000097      0.0   \n",
      "\n",
      "           S  S_conf        ST  ST_conf      Var1      Var2  VarTotal  \\\n",
      "0   0.000000     0.0 -0.070598      0.0  0.000000       NaN  0.243287   \n",
      "1   0.034136     0.0  0.047193      0.0  0.034136       NaN  0.243287   \n",
      "2   0.000000     0.0  0.025197      0.0  0.000000       NaN  0.243287   \n",
      "3   0.000000     0.0  0.019760      0.0  0.000000       NaN  0.243287   \n",
      "4   0.000261     0.0  0.023321      0.0  0.000261       NaN  0.243287   \n",
      "..       ...     ...       ...      ...       ...       ...       ...   \n",
      "31  0.000538     0.0       NaN      NaN       NaN  0.000538       NaN   \n",
      "32  0.003624     0.0       NaN      NaN       NaN  0.003624       NaN   \n",
      "33  0.001006     0.0       NaN      NaN       NaN  0.001006       NaN   \n",
      "34  0.003500     0.0       NaN      NaN       NaN  0.003500       NaN   \n",
      "35  0.002246     0.0       NaN      NaN       NaN  0.002246       NaN   \n",
      "\n",
      "    structural contribution  correlative contribution sensitive group  \n",
      "0                  0.000000                  0.000000        race = 0  \n",
      "1                  0.053775                 -0.019639        race = 0  \n",
      "2                  0.000000                  0.000000        race = 0  \n",
      "3                  0.000000                  0.000000        race = 0  \n",
      "4                  0.000483                 -0.000222        race = 0  \n",
      "..                      ...                       ...             ...  \n",
      "31                 0.000542                 -0.000003        race = 1  \n",
      "32                 0.001485                  0.002139        race = 1  \n",
      "33                 0.001804                 -0.000798        race = 1  \n",
      "34                 0.001422                  0.002078        race = 1  \n",
      "35                 0.002149                  0.000097        race = 1  \n",
      "\n",
      "[72 rows x 15 columns]\n"
     ]
    }
   ],
   "source": [
    "fairXplainer = FairXplainer(clf, X, dataset.known_sensitive_attributes)\n",
    "fairXplainer.compute(approach = 'hdmr', verbose=True, spline_intervals=6)"
   ]
  },
  {
   "cell_type": "markdown",
   "metadata": {},
   "source": [
    "### Individual FIFs"
   ]
  },
  {
   "cell_type": "code",
   "execution_count": 6,
   "metadata": {},
   "outputs": [
    {
     "data": {
      "image/png": "[encoded data removed]",
      "text/plain": [
       "<Figure size 432x288 with 1 Axes>"
      ]
     },
     "metadata": {
      "needs_background": "light"
     },
     "output_type": "display_data"
    },
    {
     "name": "stdout",
     "output_type": "stream",
     "text": [
      "Exact statistical parity 0.1747909432721744\n"
     ]
    },
    {
     "data": {
      "text/plain": [
       "<Figure size 432x288 with 0 Axes>"
      ]
     },
     "metadata": {},
     "output_type": "display_data"
    }
   ],
   "source": [
    "result = fairXplainer.get_weights()\n",
    "\n",
    "fontsize = 22\n",
    "labelsize = 20\n",
    "\n",
    "plt = fif_plot(result, draw_waterfall=True, labelsize=labelsize, figure_size=(6,4), text_y_pad=0.2, xlim=None, result_y_location=0.6,\n",
    "            # title=\"FairXplainer, \" + r\"$\\lambda = 1$\",\n",
    "            x_label=\"Influence on \" + r\"$ \\mathsf{SP} $\")\n",
    "plt.show()\n",
    "plt.clf()\n",
    "print(\"Exact statistical parity\", fairXplainer.statistical_parity_sample())"
   ]
  },
  {
   "cell_type": "markdown",
   "metadata": {},
   "source": [
    "### Intersectional FIFs"
   ]
  },
  {
   "cell_type": "code",
   "execution_count": 7,
   "metadata": {},
   "outputs": [
    {
     "data": {
      "image/png": "[encoded data removed]",
      "text/plain": [
       "<Figure size 468x288 with 1 Axes>"
      ]
     },
     "metadata": {
      "needs_background": "light"
     },
     "output_type": "display_data"
    },
    {
     "name": "stdout",
     "output_type": "stream",
     "text": [
      "Exact statistical parity 0.1747909432721744\n"
     ]
    },
    {
     "data": {
      "text/plain": [
       "<Figure size 468x288 with 0 Axes>"
      ]
     },
     "metadata": {},
     "output_type": "display_data"
    }
   ],
   "source": [
    "k = 7\n",
    "result = fairXplainer.get_top_k_weights(k=k)\n",
    "\n",
    "plt = fif_plot(result, draw_waterfall=True, labelsize=labelsize, figure_size=(6.5,4), text_y_pad=0.2, xlim=None, result_x_pad=0.02,\n",
    "        # title=\"FairXplainer, \" + r\"$\\lambda = 2$\",\n",
    "        x_label=\"Influence on \" + r\"$ \\mathsf{SP} $\")\n",
    "plt.tight_layout()\n",
    "plt.show()\n",
    "plt.clf()\n",
    "\n",
    "print(\"Exact statistical parity\", fairXplainer.statistical_parity_sample())"
   ]
  },
  {
   "cell_type": "markdown",
   "metadata": {},
   "source": [
    "### SHAP method"
   ]
  },
  {
   "cell_type": "code",
   "execution_count": 12,
   "metadata": {},
   "outputs": [
    {
     "name": "stderr",
     "output_type": "stream",
     "text": [
      "X has feature names, but LogisticRegression was fitted without feature names\n"
     ]
    },
    {
     "data": {
      "image/png": "[encoded data removed]",
      "text/plain": [
       "<Figure size 468x288 with 1 Axes>"
      ]
     },
     "metadata": {
      "needs_background": "light"
     },
     "output_type": "display_data"
    },
    {
     "name": "stdout",
     "output_type": "stream",
     "text": [
      "Exact statistical parity 0.1747909432721744\n"
     ]
    },
    {
     "data": {
      "text/plain": [
       "<Figure size 468x288 with 0 Axes>"
      ]
     },
     "metadata": {},
     "output_type": "display_data"
    }
   ],
   "source": [
    "# Shap\n",
    "from fairness_influence_functions.wrapper.shap_fairness_explanation import ShapExplanation, row_masking_based_on_sensitive_groups\n",
    "\n",
    "assert len(dataset.known_sensitive_attributes) == 1 # single sensitive feature\n",
    "assert dataset.known_sensitive_attributes[0] in X.columns # Boolean sensitive feature\n",
    "\n",
    "max_group_mask, min_group_mask = row_masking_based_on_sensitive_groups(clf, X, dataset.known_sensitive_attributes)\n",
    "shapExplanation = ShapExplanation()\n",
    "result_shap, exact_SP = shapExplanation.compute(clf, X, max_group_mask, min_group_mask, \"lr\", verbose=False)\n",
    "\n",
    "\n",
    "plt = fif_plot(result_shap, draw_waterfall=True, labelsize=labelsize, figure_size=(6.5,4), result_y_location=0.6, result_x_pad=-0.4,\n",
    "        x_label=\"Influence on \" + r\"$ \\mathsf{SP} $\")\n",
    "\n",
    "plt.show()\n",
    "plt.clf()\n",
    "\n",
    "print(\"Exact statistical parity\", exact_SP)"
   ]
  }
 ],
 "metadata": {
  "kernelspec": {
   "display_name": "base",
   "language": "python",
   "name": "python3"
  },
  "language_info": {
   "codemirror_mode": {
    "name": "ipython",
    "version": 3
   },
   "file_extension": ".py",
   "mimetype": "text/x-python",
   "name": "python",
   "nbconvert_exporter": "python",
   "pygments_lexer": "ipython3",
   "version": "3.7.6"
  },
  "orig_nbformat": 4,
  "vscode": {
   "interpreter": {
    "hash": "166504e597e6ad065b6a3190fef82fc8d0eb8fa58d36cdf54b0d21edec0e83b0"
   }
  }
 },
 "nbformat": 4,
 "nbformat_minor": 2
}
